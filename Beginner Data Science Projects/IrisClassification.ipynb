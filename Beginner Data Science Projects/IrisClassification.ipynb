{
  "nbformat": 4,
  "nbformat_minor": 0,
  "metadata": {
    "colab": {
      "provenance": []
    },
    "kernelspec": {
      "name": "python3",
      "display_name": "Python 3"
    },
    "language_info": {
      "name": "python"
    }
  },
  "cells": [
    {
      "cell_type": "code",
      "execution_count": 1,
      "metadata": {
        "id": "uNCq8tcytXeR",
        "colab": {
          "base_uri": "https://localhost:8080/"
        },
        "outputId": "df37fa42-2345-4ac2-8c03-577f44eb17c3"
      },
      "outputs": [
        {
          "output_type": "stream",
          "name": "stdout",
          "text": [
            "\u001b[2K     \u001b[90m━━━━━━━━━━━━━━━━━━━━━━━━━━━━━━━━━━━━━━━━\u001b[0m \u001b[32m317.0/317.0 MB\u001b[0m \u001b[31m4.3 MB/s\u001b[0m eta \u001b[36m0:00:00\u001b[0m\n",
            "\u001b[?25h  Preparing metadata (setup.py) ... \u001b[?25l\u001b[?25hdone\n",
            "  Building wheel for pyspark (setup.py) ... \u001b[?25l\u001b[?25hdone\n"
          ]
        }
      ],
      "source": [
        "# downloads\n",
        "!pip install -Uq pyspark py4j"
      ]
    },
    {
      "cell_type": "code",
      "source": [
        "# standard imports\n",
        "import pandas as pd\n",
        "from pyspark.sql import SparkSession\n",
        "from pyspark.ml.feature import StringIndexer, VectorAssembler\n",
        "from pyspark.ml.classification import MultilayerPerceptronClassifier\n",
        "from pyspark.ml.evaluation import MulticlassClassificationEvaluator"
      ],
      "metadata": {
        "id": "K4EXuYl0toyF"
      },
      "execution_count": 2,
      "outputs": []
    },
    {
      "cell_type": "code",
      "source": [
        "# creating spark session\n",
        "spark = SparkSession.builder.appName('irisClassification').getOrCreate()\n",
        "spark"
      ],
      "metadata": {
        "id": "jZImyYkAwfnL",
        "colab": {
          "base_uri": "https://localhost:8080/",
          "height": 219
        },
        "outputId": "29dd4773-5560-4bf2-f69f-8539e3debf08"
      },
      "execution_count": 3,
      "outputs": [
        {
          "output_type": "execute_result",
          "data": {
            "text/plain": [
              "<pyspark.sql.session.SparkSession at 0x7d63679ed6f0>"
            ],
            "text/html": [
              "\n",
              "            <div>\n",
              "                <p><b>SparkSession - in-memory</b></p>\n",
              "                \n",
              "        <div>\n",
              "            <p><b>SparkContext</b></p>\n",
              "\n",
              "            <p><a href=\"http://785264f1f628:4040\">Spark UI</a></p>\n",
              "\n",
              "            <dl>\n",
              "              <dt>Version</dt>\n",
              "                <dd><code>v3.5.1</code></dd>\n",
              "              <dt>Master</dt>\n",
              "                <dd><code>local[*]</code></dd>\n",
              "              <dt>AppName</dt>\n",
              "                <dd><code>irisClassification</code></dd>\n",
              "            </dl>\n",
              "        </div>\n",
              "        \n",
              "            </div>\n",
              "        "
            ]
          },
          "metadata": {},
          "execution_count": 3
        }
      ]
    },
    {
      "cell_type": "code",
      "source": [
        "# loading data\n",
        "df = spark.createDataFrame(data=pd.read_csv('/content/irisDataset.csv')).cache()\n",
        "print(f'DataFrame cached: {df.is_cached}')\n",
        "df.show(10)"
      ],
      "metadata": {
        "colab": {
          "base_uri": "https://localhost:8080/"
        },
        "id": "2YAuNemTjCHE",
        "outputId": "3f5e6d7c-f0a2-41ad-fc37-39f80b12d2a1"
      },
      "execution_count": 4,
      "outputs": [
        {
          "output_type": "stream",
          "name": "stdout",
          "text": [
            "DataFrame cached: True\n",
            "+------------+-----------+------------+-----------+-------+\n",
            "|sepal_length|sepal_width|petal_length|petal_width|species|\n",
            "+------------+-----------+------------+-----------+-------+\n",
            "|         5.1|        3.5|         1.4|        0.2| setosa|\n",
            "|         4.9|        3.0|         1.4|        0.2| setosa|\n",
            "|         4.7|        3.2|         1.3|        0.2| setosa|\n",
            "|         4.6|        3.1|         1.5|        0.2| setosa|\n",
            "|         5.0|        3.6|         1.4|        0.2| setosa|\n",
            "|         5.4|        3.9|         1.7|        0.4| setosa|\n",
            "|         4.6|        3.4|         1.4|        0.3| setosa|\n",
            "|         5.0|        3.4|         1.5|        0.2| setosa|\n",
            "|         4.4|        2.9|         1.4|        0.2| setosa|\n",
            "|         4.9|        3.1|         1.5|        0.1| setosa|\n",
            "+------------+-----------+------------+-----------+-------+\n",
            "only showing top 10 rows\n",
            "\n"
          ]
        }
      ]
    },
    {
      "cell_type": "code",
      "source": [
        "# getting df shape\n",
        "print(f'Shape: {df.count()}, {len(df.columns)}')"
      ],
      "metadata": {
        "colab": {
          "base_uri": "https://localhost:8080/"
        },
        "id": "k9e9jS72Dzc9",
        "outputId": "0f12801d-5f35-4258-8b22-cd0f558472b0"
      },
      "execution_count": 5,
      "outputs": [
        {
          "output_type": "stream",
          "name": "stdout",
          "text": [
            "Shape: 150, 5\n"
          ]
        }
      ]
    },
    {
      "cell_type": "code",
      "source": [
        "# string indexing\n",
        "indexer = StringIndexer(inputCol='species', outputCol='label')\n",
        "indexerModel = indexer.fit(df)\n",
        "df = indexerModel.transform(df)\n",
        "df.show(10)"
      ],
      "metadata": {
        "colab": {
          "base_uri": "https://localhost:8080/"
        },
        "id": "di1qBXBpP7T-",
        "outputId": "e7786892-f178-4bea-a77b-66e572925a8f"
      },
      "execution_count": 6,
      "outputs": [
        {
          "output_type": "stream",
          "name": "stdout",
          "text": [
            "+------------+-----------+------------+-----------+-------+-----+\n",
            "|sepal_length|sepal_width|petal_length|petal_width|species|label|\n",
            "+------------+-----------+------------+-----------+-------+-----+\n",
            "|         5.1|        3.5|         1.4|        0.2| setosa|  0.0|\n",
            "|         4.9|        3.0|         1.4|        0.2| setosa|  0.0|\n",
            "|         4.7|        3.2|         1.3|        0.2| setosa|  0.0|\n",
            "|         4.6|        3.1|         1.5|        0.2| setosa|  0.0|\n",
            "|         5.0|        3.6|         1.4|        0.2| setosa|  0.0|\n",
            "|         5.4|        3.9|         1.7|        0.4| setosa|  0.0|\n",
            "|         4.6|        3.4|         1.4|        0.3| setosa|  0.0|\n",
            "|         5.0|        3.4|         1.5|        0.2| setosa|  0.0|\n",
            "|         4.4|        2.9|         1.4|        0.2| setosa|  0.0|\n",
            "|         4.9|        3.1|         1.5|        0.1| setosa|  0.0|\n",
            "+------------+-----------+------------+-----------+-------+-----+\n",
            "only showing top 10 rows\n",
            "\n"
          ]
        }
      ]
    },
    {
      "cell_type": "code",
      "source": [
        "# getting target valuecounts\n",
        "df.groupby('species', 'label').count().show()"
      ],
      "metadata": {
        "colab": {
          "base_uri": "https://localhost:8080/"
        },
        "id": "HZNwpl2XwiRO",
        "outputId": "4241ef11-9604-4ce5-a312-2a6fb0121143"
      },
      "execution_count": 7,
      "outputs": [
        {
          "output_type": "stream",
          "name": "stdout",
          "text": [
            "+----------+-----+-----+\n",
            "|   species|label|count|\n",
            "+----------+-----+-----+\n",
            "|    setosa|  0.0|   50|\n",
            "|versicolor|  1.0|   50|\n",
            "| virginica|  2.0|   50|\n",
            "+----------+-----+-----+\n",
            "\n"
          ]
        }
      ]
    },
    {
      "cell_type": "code",
      "source": [
        "# assembling input features\n",
        "assembler = VectorAssembler(inputCols=df.drop('species', 'label').columns, outputCol='features')\n",
        "df = assembler.transform(df)\n",
        "df.show(10, truncate=False)"
      ],
      "metadata": {
        "colab": {
          "base_uri": "https://localhost:8080/"
        },
        "id": "BkfqaR8zRBL1",
        "outputId": "303707c1-3e56-40f6-bdc1-a84e4f296fd3"
      },
      "execution_count": 8,
      "outputs": [
        {
          "output_type": "stream",
          "name": "stdout",
          "text": [
            "+------------+-----------+------------+-----------+-------+-----+-----------------+\n",
            "|sepal_length|sepal_width|petal_length|petal_width|species|label|features         |\n",
            "+------------+-----------+------------+-----------+-------+-----+-----------------+\n",
            "|5.1         |3.5        |1.4         |0.2        |setosa |0.0  |[5.1,3.5,1.4,0.2]|\n",
            "|4.9         |3.0        |1.4         |0.2        |setosa |0.0  |[4.9,3.0,1.4,0.2]|\n",
            "|4.7         |3.2        |1.3         |0.2        |setosa |0.0  |[4.7,3.2,1.3,0.2]|\n",
            "|4.6         |3.1        |1.5         |0.2        |setosa |0.0  |[4.6,3.1,1.5,0.2]|\n",
            "|5.0         |3.6        |1.4         |0.2        |setosa |0.0  |[5.0,3.6,1.4,0.2]|\n",
            "|5.4         |3.9        |1.7         |0.4        |setosa |0.0  |[5.4,3.9,1.7,0.4]|\n",
            "|4.6         |3.4        |1.4         |0.3        |setosa |0.0  |[4.6,3.4,1.4,0.3]|\n",
            "|5.0         |3.4        |1.5         |0.2        |setosa |0.0  |[5.0,3.4,1.5,0.2]|\n",
            "|4.4         |2.9        |1.4         |0.2        |setosa |0.0  |[4.4,2.9,1.4,0.2]|\n",
            "|4.9         |3.1        |1.5         |0.1        |setosa |0.0  |[4.9,3.1,1.5,0.1]|\n",
            "+------------+-----------+------------+-----------+-------+-----+-----------------+\n",
            "only showing top 10 rows\n",
            "\n"
          ]
        }
      ]
    },
    {
      "cell_type": "code",
      "source": [
        "# making final df\n",
        "finalDf = df.select('features', 'label')\n",
        "finalDf.show(10, truncate=False)"
      ],
      "metadata": {
        "colab": {
          "base_uri": "https://localhost:8080/"
        },
        "id": "XWHolkuqMqqj",
        "outputId": "52820b55-b67d-4d65-8a22-3cc26ee7e37d"
      },
      "execution_count": 9,
      "outputs": [
        {
          "output_type": "stream",
          "name": "stdout",
          "text": [
            "+-----------------+-----+\n",
            "|features         |label|\n",
            "+-----------------+-----+\n",
            "|[5.1,3.5,1.4,0.2]|0.0  |\n",
            "|[4.9,3.0,1.4,0.2]|0.0  |\n",
            "|[4.7,3.2,1.3,0.2]|0.0  |\n",
            "|[4.6,3.1,1.5,0.2]|0.0  |\n",
            "|[5.0,3.6,1.4,0.2]|0.0  |\n",
            "|[5.4,3.9,1.7,0.4]|0.0  |\n",
            "|[4.6,3.4,1.4,0.3]|0.0  |\n",
            "|[5.0,3.4,1.5,0.2]|0.0  |\n",
            "|[4.4,2.9,1.4,0.2]|0.0  |\n",
            "|[4.9,3.1,1.5,0.1]|0.0  |\n",
            "+-----------------+-----+\n",
            "only showing top 10 rows\n",
            "\n"
          ]
        }
      ]
    },
    {
      "cell_type": "code",
      "source": [
        "# splitting df\n",
        "trainDf, testDf = finalDf.randomSplit(weights=[0.8, 0.2], seed=42)"
      ],
      "metadata": {
        "id": "hUPKm3wE6YnY"
      },
      "execution_count": 10,
      "outputs": []
    },
    {
      "cell_type": "code",
      "source": [
        "# model training\n",
        "mlp = MultilayerPerceptronClassifier(layers=[4, 10, 10, 3], seed=42)\n",
        "mlpModel = mlp.fit(trainDf)"
      ],
      "metadata": {
        "id": "fvc8tKbPSqqY"
      },
      "execution_count": 11,
      "outputs": []
    },
    {
      "cell_type": "code",
      "source": [
        "# model evaluation\n",
        "evaluator = MulticlassClassificationEvaluator(metricName='accuracy')\n",
        "print('Accuracy:', (evaluator.evaluate(mlpModel.transform(testDf))))"
      ],
      "metadata": {
        "colab": {
          "base_uri": "https://localhost:8080/"
        },
        "id": "oz2NWhk9SqL1",
        "outputId": "01052266-804e-4636-e386-24f18aa463d8"
      },
      "execution_count": 12,
      "outputs": [
        {
          "output_type": "stream",
          "name": "stdout",
          "text": [
            "Accuracy: 1.0\n"
          ]
        }
      ]
    },
    {
      "cell_type": "code",
      "source": [
        "# stopping session\n",
        "spark.stop()"
      ],
      "metadata": {
        "id": "tnIlo6Bo9NDX"
      },
      "execution_count": 13,
      "outputs": []
    }
  ]
}